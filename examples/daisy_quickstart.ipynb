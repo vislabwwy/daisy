{
 "cells": [
  {
   "cell_type": "code",
   "execution_count": 1,
   "metadata": {},
   "outputs": [
    {
     "name": "stdout",
     "output_type": "stream",
     "text": [
      "[      0       1       2 ... 4095997 4095998 4095999]\n"
     ]
    }
   ],
   "source": [
    "import numpy as np\n",
    "shape = 4096000\n",
    "\n",
    "a = np.arange(shape, dtype=np.int64)\n",
    "b = np.empty_like(a, dtype=np.int64)\n",
    "\n",
    "print(a)\n",
    "# prints [0 1 2 ... 4095997 4095998 4095999]"
   ]
  },
  {
   "cell_type": "code",
   "execution_count": 2,
   "metadata": {},
   "outputs": [
    {
     "name": "stdout",
     "output_type": "stream",
     "text": [
      "1.81 s ± 8.04 ms per loop (mean ± std. dev. of 7 runs, 1 loop each)\n",
      "[             0              1              4 ... 16777191424009\n",
      " 16777199616004 16777207808001]\n"
     ]
    }
   ],
   "source": [
    "def process_fn():\n",
    "    # iterating and squaring each element in a and store to b\n",
    "    with np.nditer([a, b],\n",
    "                   op_flags=[['readonly'], ['readwrite']]) as it:\n",
    "        with it:\n",
    "           for x,y in it:\n",
    "                y[...] = x**2\n",
    "\n",
    "%timeit process_fn()  # 3.55 s ± 22.7 ms per loop\n",
    "print(b)\n",
    "# prints [0 1 4 ... 16777191424009 16777199616004 16777207808001]"
   ]
  },
  {
   "cell_type": "code",
   "execution_count": 3,
   "metadata": {},
   "outputs": [
    {
     "name": "stderr",
     "output_type": "stream",
     "text": [
      "/gpfs/share/home/t240401090201/.conda/envs/LSD/lib/python3.10/site-packages/tqdm/auto.py:21: TqdmWarning: IProgress not found. Please update jupyter and ipywidgets. See https://ipywidgets.readthedocs.io/en/stable/user_install.html\n",
      "  from .autonotebook import tqdm as notebook_tqdm\n"
     ]
    }
   ],
   "source": [
    "import daisy\n",
    "import zarr\n",
    "from funlib.persistence import Array\n",
    "\n",
    "shape = 4096000\n",
    "block_shape = 1024*16\n",
    "\n",
    "# input array is wrapped in daisy.Array for easy of Roi indexing\n",
    "a = Array(np.arange(shape, dtype=np.int64))\n",
    "\n",
    "# to parallelize across processes, we need persistent read/write arrays\n",
    "# we'll use zarr here to do do that\n",
    "b = zarr.open_array(zarr.TempStore(), 'w', (shape,),\n",
    "                    chunks=(block_shape,),\n",
    "                    dtype=np.int64)\n",
    "# output array is wrapped in daisy.Array for easy of Roi indexing\n",
    "b = Array(b)"
   ]
  },
  {
   "cell_type": "code",
   "execution_count": 4,
   "metadata": {},
   "outputs": [],
   "source": [
    "# same process function as previously, but with additional code\n",
    "# to read and write data to persistent arrays\n",
    "def process_fn_daisy(block):\n",
    "\n",
    "    a_sub = a.to_ndarray(block.read_roi)\n",
    "    b_sub = np.empty_like(a_sub)\n",
    "    with np.nditer([a_sub, b_sub],\n",
    "                   op_flags=[['readonly'], ['readwrite']],\n",
    "                  ) as it:\n",
    "        with it:\n",
    "           for x,y in it:\n",
    "                y[...] = x**2\n",
    "    \n",
    "    b[block.write_roi] = b_sub"
   ]
  },
  {
   "cell_type": "code",
   "execution_count": 5,
   "metadata": {},
   "outputs": [
    {
     "name": "stderr",
     "output_type": "stream",
     "text": [
      "square ✔: 100%|██████████| 250/250 [00:04<00:00, 61.95blocks/s, ⧗=0, ▶=0, ✔=250, ✗=0, ∅=0]\n"
     ]
    },
    {
     "name": "stdout",
     "output_type": "stream",
     "text": [
      "\n",
      "Execution Summary\n",
      "-----------------\n",
      "\n",
      "  Task square:\n",
      "\n",
      "    num blocks : 250\n",
      "    completed ✔: 250 (skipped 0)\n",
      "    failed    ✗: 0\n",
      "    orphaned  ∅: 0\n",
      "\n",
      "    all blocks processed successfully\n",
      "[             0              1              4 ... 16777191424009\n",
      " 16777199616004 16777207808001]\n"
     ]
    }
   ],
   "source": [
    "total_roi = daisy.Roi((0,), shape)  # total ROI to map process over\n",
    "block_roi = daisy.Roi((0,), (block_shape,))  # block ROI for parallel processing\n",
    "\n",
    "# creating a Daisy task, note that we do not specify how each\n",
    "# worker should read/write to input/output arrays\n",
    "task = daisy.Task(\n",
    "    total_roi=total_roi,\n",
    "    read_roi=block_roi,\n",
    "    write_roi=block_roi,\n",
    "    process_function=process_fn_daisy,\n",
    "    num_workers=8,\n",
    "    task_id='square',\n",
    ")\n",
    "\n",
    "daisy.run_blockwise([task])\n",
    "'''\n",
    "prints Execution Summary\n",
    "-----------------\n",
    "\n",
    "  Task square:\n",
    "\n",
    "    num blocks : 250\n",
    "    completed ✔: 250 (skipped 0)\n",
    "    failed    ✗: 0\n",
    "    orphaned  ∅: 0\n",
    "\n",
    "    all blocks processed successfully\n",
    "'''\n",
    "\n",
    "print(b.to_ndarray(total_roi))\n",
    "# prints [0 1 4 ... 16777191424009 16777199616004 16777207808001]"
   ]
  },
  {
   "cell_type": "code",
   "execution_count": 14,
   "metadata": {},
   "outputs": [
    {
     "name": "stderr",
     "output_type": "stream",
     "text": [
      "square ✔: 100%|██████████| 250/250 [00:05<00:00, 47.35blocks/s, ⧗=0, ▶=0, ✔=250, ✗=0, ∅=0]\n"
     ]
    },
    {
     "name": "stdout",
     "output_type": "stream",
     "text": [
      "\n",
      "Execution Summary\n",
      "-----------------\n",
      "\n",
      "  Task square:\n",
      "\n",
      "    num blocks : 250\n",
      "    completed ✔: 250 (skipped 0)\n",
      "    failed    ✗: 0\n",
      "    orphaned  ∅: 0\n",
      "\n",
      "    all blocks processed successfully\n"
     ]
    },
    {
     "name": "stderr",
     "output_type": "stream",
     "text": [
      "square ✔: 100%|██████████| 250/250 [00:05<00:00, 48.87blocks/s, ⧗=0, ▶=0, ✔=250, ✗=0, ∅=0]\n"
     ]
    },
    {
     "name": "stdout",
     "output_type": "stream",
     "text": [
      "\n",
      "Execution Summary\n",
      "-----------------\n",
      "\n",
      "  Task square:\n",
      "\n",
      "    num blocks : 250\n",
      "    completed ✔: 250 (skipped 0)\n",
      "    failed    ✗: 0\n",
      "    orphaned  ∅: 0\n",
      "\n",
      "    all blocks processed successfully\n"
     ]
    },
    {
     "name": "stderr",
     "output_type": "stream",
     "text": [
      "square ✔: 100%|██████████| 250/250 [00:05<00:00, 44.68blocks/s, ⧗=0, ▶=0, ✔=250, ✗=0, ∅=0]\n"
     ]
    },
    {
     "name": "stdout",
     "output_type": "stream",
     "text": [
      "\n",
      "Execution Summary\n",
      "-----------------\n",
      "\n",
      "  Task square:\n",
      "\n",
      "    num blocks : 250\n",
      "    completed ✔: 250 (skipped 0)\n",
      "    failed    ✗: 0\n",
      "    orphaned  ∅: 0\n",
      "\n",
      "    all blocks processed successfully\n"
     ]
    },
    {
     "name": "stderr",
     "output_type": "stream",
     "text": [
      "square ✔: 100%|██████████| 250/250 [00:08<00:00, 30.40blocks/s, ⧗=0, ▶=0, ✔=250, ✗=0, ∅=0]\n"
     ]
    },
    {
     "name": "stdout",
     "output_type": "stream",
     "text": [
      "\n",
      "Execution Summary\n",
      "-----------------\n",
      "\n",
      "  Task square:\n",
      "\n",
      "    num blocks : 250\n",
      "    completed ✔: 250 (skipped 0)\n",
      "    failed    ✗: 0\n",
      "    orphaned  ∅: 0\n",
      "\n",
      "    all blocks processed successfully\n"
     ]
    },
    {
     "name": "stderr",
     "output_type": "stream",
     "text": [
      "square ✔: 100%|██████████| 250/250 [00:05<00:00, 48.93blocks/s, ⧗=0, ▶=0, ✔=250, ✗=0, ∅=0]\n"
     ]
    },
    {
     "name": "stdout",
     "output_type": "stream",
     "text": [
      "\n",
      "Execution Summary\n",
      "-----------------\n",
      "\n",
      "  Task square:\n",
      "\n",
      "    num blocks : 250\n",
      "    completed ✔: 250 (skipped 0)\n",
      "    failed    ✗: 0\n",
      "    orphaned  ∅: 0\n",
      "\n",
      "    all blocks processed successfully\n"
     ]
    },
    {
     "name": "stderr",
     "output_type": "stream",
     "text": [
      "square ✔: 100%|██████████| 250/250 [00:04<00:00, 50.25blocks/s, ⧗=0, ▶=0, ✔=250, ✗=0, ∅=0]\n"
     ]
    },
    {
     "name": "stdout",
     "output_type": "stream",
     "text": [
      "\n",
      "Execution Summary\n",
      "-----------------\n",
      "\n",
      "  Task square:\n",
      "\n",
      "    num blocks : 250\n",
      "    completed ✔: 250 (skipped 0)\n",
      "    failed    ✗: 0\n",
      "    orphaned  ∅: 0\n",
      "\n",
      "    all blocks processed successfully\n"
     ]
    },
    {
     "name": "stderr",
     "output_type": "stream",
     "text": [
      "square ✔: 100%|██████████| 250/250 [00:04<00:00, 52.00blocks/s, ⧗=0, ▶=0, ✔=250, ✗=0, ∅=0]\n"
     ]
    },
    {
     "name": "stdout",
     "output_type": "stream",
     "text": [
      "\n",
      "Execution Summary\n",
      "-----------------\n",
      "\n",
      "  Task square:\n",
      "\n",
      "    num blocks : 250\n",
      "    completed ✔: 250 (skipped 0)\n",
      "    failed    ✗: 0\n",
      "    orphaned  ∅: 0\n",
      "\n",
      "    all blocks processed successfully\n"
     ]
    },
    {
     "name": "stderr",
     "output_type": "stream",
     "text": [
      "square ✔: 100%|██████████| 250/250 [00:04<00:00, 50.64blocks/s, ⧗=0, ▶=0, ✔=250, ✗=0, ∅=0]\n"
     ]
    },
    {
     "name": "stdout",
     "output_type": "stream",
     "text": [
      "\n",
      "Execution Summary\n",
      "-----------------\n",
      "\n",
      "  Task square:\n",
      "\n",
      "    num blocks : 250\n",
      "    completed ✔: 250 (skipped 0)\n",
      "    failed    ✗: 0\n",
      "    orphaned  ∅: 0\n",
      "\n",
      "    all blocks processed successfully\n",
      "5.75 s ± 1.12 s per loop (mean ± std. dev. of 7 runs, 1 loop each)\n"
     ]
    }
   ],
   "source": [
    "# run this to benchmark daisy!\n",
    "%timeit daisy.run_blockwise([task])"
   ]
  },
  {
   "cell_type": "code",
   "execution_count": 6,
   "metadata": {},
   "outputs": [
    {
     "name": "stderr",
     "output_type": "stream",
     "text": [
      "sum_reduce ✔: 100%|██████████| 16/16 [00:00<00:00, 84.88blocks/s, ⧗=0, ▶=0, ✔=16, ✗=0, ∅=0]\n"
     ]
    },
    {
     "name": "stdout",
     "output_type": "stream",
     "text": [
      "\n",
      "Execution Summary\n",
      "-----------------\n",
      "\n",
      "  Task sum_reduce:\n",
      "\n",
      "    num blocks : 16\n",
      "    completed ✔: 16 (skipped 0)\n",
      "    failed    ✗: 0\n",
      "    orphaned  ∅: 0\n",
      "\n",
      "    all blocks processed successfully\n",
      "[5592372565376000, 39146739029376000, 106255537493376000, 206918767957376000, 341136430421376000, 508908524885376000, 710235051349376000, 945116009813376000, 1213551400277376000, 1515541222741376000, 1851085477205376000, 2220184163669376000, 2622837282133376000, 3059044832597376000, 3528806815061376000, 4032123229525376000]\n"
     ]
    }
   ],
   "source": [
    "import multiprocessing\n",
    "\n",
    "reduce_shape = shape/16\n",
    "\n",
    "# while using zarr with daisy.Array can be easier to understand and less error prone, it is not a requirement.\n",
    "# Here we make a shared memory array for collecting results from different workers\n",
    "c = multiprocessing.Array('Q', range(int(shape/reduce_shape)))\n",
    "\n",
    "def process_fn_sum_reduce(block):\n",
    "    b_sub = b.to_ndarray(block.write_roi)\n",
    "    s = np.sum(b_sub)\n",
    "    # compute c idx based on block offset and shape\n",
    "    idx = (block.write_roi.offset / block.write_roi.shape)[0]\n",
    "    c[idx] = s\n",
    "\n",
    "total_roi = daisy.Roi((0,), shape)  # total ROI to map process over\n",
    "block_roi = daisy.Roi((0,), reduce_shape)  # block ROI for parallel processing\n",
    "\n",
    "task1 = daisy.Task(\n",
    "    total_roi=total_roi,\n",
    "    read_roi=block_roi,\n",
    "    write_roi=block_roi,\n",
    "    process_function=process_fn_sum_reduce,\n",
    "    num_workers=8,\n",
    "    task_id='sum_reduce',\n",
    ")\n",
    "\n",
    "daisy.run_blockwise([task1])\n",
    "print(c[:])\n"
   ]
  }
 ],
 "metadata": {
  "kernelspec": {
   "display_name": "Python 3",
   "language": "python",
   "name": "python3"
  },
  "language_info": {
   "codemirror_mode": {
    "name": "ipython",
    "version": 3
   },
   "file_extension": ".py",
   "mimetype": "text/x-python",
   "name": "python",
   "nbconvert_exporter": "python",
   "pygments_lexer": "ipython3",
   "version": "3.10.14"
  }
 },
 "nbformat": 4,
 "nbformat_minor": 4
}
